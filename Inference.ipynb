{
 "cells": [
  {
   "cell_type": "markdown",
   "metadata": {},
   "source": [
    "# Model Inference\n",
    "---"
   ]
  },
  {
   "cell_type": "markdown",
   "metadata": {},
   "source": [
    "## Perkenalan\n",
    "- Name  : Ghaffar\n",
    "- Batch : HCK 019\n",
    "- Objective : Program ini bertujuan melakukan prediksi cuaca dengan model yang sebelumnya sudah dibuat, berdasarkan data baru yang sebelumnya belum dilihat model."
   ]
  },
  {
   "cell_type": "markdown",
   "metadata": {},
   "source": [
    "## Import Libraries"
   ]
  },
  {
   "cell_type": "code",
   "execution_count": 1,
   "metadata": {},
   "outputs": [],
   "source": [
    "#data manipulation\n",
    "import pandas as pd \n",
    "import numpy as np \n",
    "\n",
    "#Model Saving\n",
    "import pickle"
   ]
  },
  {
   "cell_type": "markdown",
   "metadata": {},
   "source": [
    "## Load Model"
   ]
  },
  {
   "cell_type": "code",
   "execution_count": 2,
   "metadata": {},
   "outputs": [],
   "source": [
    "with open('model_rf.pkl', 'rb') as file:\n",
    "    loaded_model = pickle.load(file)"
   ]
  },
  {
   "cell_type": "markdown",
   "metadata": {},
   "source": [
    "## Dataframe"
   ]
  },
  {
   "cell_type": "code",
   "execution_count": 3,
   "metadata": {},
   "outputs": [
    {
     "data": {
      "text/html": [
       "<div>\n",
       "<style scoped>\n",
       "    .dataframe tbody tr th:only-of-type {\n",
       "        vertical-align: middle;\n",
       "    }\n",
       "\n",
       "    .dataframe tbody tr th {\n",
       "        vertical-align: top;\n",
       "    }\n",
       "\n",
       "    .dataframe thead th {\n",
       "        text-align: right;\n",
       "    }\n",
       "</style>\n",
       "<table border=\"1\" class=\"dataframe\">\n",
       "  <thead>\n",
       "    <tr style=\"text-align: right;\">\n",
       "      <th></th>\n",
       "      <th>Temperature</th>\n",
       "      <th>Humidity</th>\n",
       "      <th>Wind Speed</th>\n",
       "      <th>Precipitation</th>\n",
       "      <th>Cloud Cover</th>\n",
       "      <th>Atmospheric Pressure</th>\n",
       "      <th>UV Index</th>\n",
       "      <th>Season</th>\n",
       "      <th>Visibility</th>\n",
       "      <th>Location</th>\n",
       "    </tr>\n",
       "  </thead>\n",
       "  <tbody>\n",
       "    <tr>\n",
       "      <th>0</th>\n",
       "      <td>12.0</td>\n",
       "      <td>73</td>\n",
       "      <td>9.5</td>\n",
       "      <td>82.0</td>\n",
       "      <td>partly cloudy</td>\n",
       "      <td>1010.82</td>\n",
       "      <td>3</td>\n",
       "      <td>Winter</td>\n",
       "      <td>4</td>\n",
       "      <td>inland</td>\n",
       "    </tr>\n",
       "    <tr>\n",
       "      <th>1</th>\n",
       "      <td>31.0</td>\n",
       "      <td>96</td>\n",
       "      <td>9.0</td>\n",
       "      <td>10.0</td>\n",
       "      <td>partly cloudy</td>\n",
       "      <td>900.00</td>\n",
       "      <td>6</td>\n",
       "      <td>Spring</td>\n",
       "      <td>9</td>\n",
       "      <td>inland</td>\n",
       "    </tr>\n",
       "    <tr>\n",
       "      <th>2</th>\n",
       "      <td>29.0</td>\n",
       "      <td>64</td>\n",
       "      <td>7.0</td>\n",
       "      <td>16.0</td>\n",
       "      <td>clear</td>\n",
       "      <td>1018.72</td>\n",
       "      <td>4</td>\n",
       "      <td>Spring</td>\n",
       "      <td>6</td>\n",
       "      <td>mountain</td>\n",
       "    </tr>\n",
       "  </tbody>\n",
       "</table>\n",
       "</div>"
      ],
      "text/plain": [
       "   Temperature  Humidity  Wind Speed  Precipitation    Cloud Cover  \\\n",
       "0         12.0        73         9.5           82.0  partly cloudy   \n",
       "1         31.0        96         9.0           10.0  partly cloudy   \n",
       "2         29.0        64         7.0           16.0          clear   \n",
       "\n",
       "   Atmospheric Pressure  UV Index  Season  Visibility  Location  \n",
       "0               1010.82         3  Winter           4    inland  \n",
       "1                900.00         6  Spring           9    inland  \n",
       "2               1018.72         4  Spring           6  mountain  "
      ]
     },
     "execution_count": 3,
     "metadata": {},
     "output_type": "execute_result"
    }
   ],
   "source": [
    "#input data inference\n",
    "data = {\n",
    "    \"Temperature\": [12.0, 31.0, 29.0],\n",
    "    \"Humidity\": [73, 96, 64],\n",
    "    \"Wind Speed\": [9.5, 9, 7.0],\n",
    "    \"Precipitation\": [82.0, 10.0, 16.0],\n",
    "    \"Cloud Cover\": [\"partly cloudy\", \"partly cloudy\", \"clear\"],\n",
    "    \"Atmospheric Pressure\": [1010.82, 900, 1018.72],\n",
    "    \"UV Index\": [3, 6, 4],\n",
    "    \"Season\": [\"Winter\", \"Spring\", \"Spring\"],\n",
    "    \"Visibility\": [4, 9, 6],\n",
    "    \"Location\": [\"inland\", \"inland\", \"mountain\"]\n",
    "}\n",
    "\n",
    "# Membuat DataFrame\n",
    "df = pd.DataFrame(data)\n",
    "df"
   ]
  },
  {
   "cell_type": "markdown",
   "metadata": {},
   "source": [
    "## Prediction"
   ]
  },
  {
   "cell_type": "code",
   "execution_count": 4,
   "metadata": {},
   "outputs": [
    {
     "data": {
      "text/html": [
       "<div>\n",
       "<style scoped>\n",
       "    .dataframe tbody tr th:only-of-type {\n",
       "        vertical-align: middle;\n",
       "    }\n",
       "\n",
       "    .dataframe tbody tr th {\n",
       "        vertical-align: top;\n",
       "    }\n",
       "\n",
       "    .dataframe thead th {\n",
       "        text-align: right;\n",
       "    }\n",
       "</style>\n",
       "<table border=\"1\" class=\"dataframe\">\n",
       "  <thead>\n",
       "    <tr style=\"text-align: right;\">\n",
       "      <th></th>\n",
       "      <th>Temperature</th>\n",
       "      <th>Humidity</th>\n",
       "      <th>Wind Speed</th>\n",
       "      <th>Precipitation</th>\n",
       "      <th>Cloud Cover</th>\n",
       "      <th>Atmospheric Pressure</th>\n",
       "      <th>UV Index</th>\n",
       "      <th>Season</th>\n",
       "      <th>Visibility</th>\n",
       "      <th>Location</th>\n",
       "      <th>prediksi cuaca</th>\n",
       "    </tr>\n",
       "  </thead>\n",
       "  <tbody>\n",
       "    <tr>\n",
       "      <th>0</th>\n",
       "      <td>12.0</td>\n",
       "      <td>73</td>\n",
       "      <td>9.5</td>\n",
       "      <td>82.0</td>\n",
       "      <td>partly cloudy</td>\n",
       "      <td>1010.82</td>\n",
       "      <td>3</td>\n",
       "      <td>Winter</td>\n",
       "      <td>4</td>\n",
       "      <td>inland</td>\n",
       "      <td>Rainy</td>\n",
       "    </tr>\n",
       "    <tr>\n",
       "      <th>1</th>\n",
       "      <td>31.0</td>\n",
       "      <td>96</td>\n",
       "      <td>9.0</td>\n",
       "      <td>10.0</td>\n",
       "      <td>partly cloudy</td>\n",
       "      <td>900.00</td>\n",
       "      <td>6</td>\n",
       "      <td>Spring</td>\n",
       "      <td>9</td>\n",
       "      <td>inland</td>\n",
       "      <td>Cloudy</td>\n",
       "    </tr>\n",
       "    <tr>\n",
       "      <th>2</th>\n",
       "      <td>29.0</td>\n",
       "      <td>64</td>\n",
       "      <td>7.0</td>\n",
       "      <td>16.0</td>\n",
       "      <td>clear</td>\n",
       "      <td>1018.72</td>\n",
       "      <td>4</td>\n",
       "      <td>Spring</td>\n",
       "      <td>6</td>\n",
       "      <td>mountain</td>\n",
       "      <td>Sunny</td>\n",
       "    </tr>\n",
       "  </tbody>\n",
       "</table>\n",
       "</div>"
      ],
      "text/plain": [
       "   Temperature  Humidity  Wind Speed  Precipitation    Cloud Cover  \\\n",
       "0         12.0        73         9.5           82.0  partly cloudy   \n",
       "1         31.0        96         9.0           10.0  partly cloudy   \n",
       "2         29.0        64         7.0           16.0          clear   \n",
       "\n",
       "   Atmospheric Pressure  UV Index  Season  Visibility  Location prediksi cuaca  \n",
       "0               1010.82         3  Winter           4    inland          Rainy  \n",
       "1                900.00         6  Spring           9    inland         Cloudy  \n",
       "2               1018.72         4  Spring           6  mountain          Sunny  "
      ]
     },
     "execution_count": 4,
     "metadata": {},
     "output_type": "execute_result"
    }
   ],
   "source": [
    "# Melakukan prediksi\n",
    "pred = loaded_model.predict(df)\n",
    "\n",
    "# Memasukkan ke dataframe\n",
    "df['prediksi cuaca'] = pred\n",
    "df"
   ]
  },
  {
   "cell_type": "markdown",
   "metadata": {},
   "source": [
    "Model melakukan prediksi berdasarkan data yang diinput, hasil prediksi kemudian dimasukkan kedalam kolom prediksi cuaca"
   ]
  },
  {
   "cell_type": "markdown",
   "metadata": {},
   "source": [
    "## Kesimpulan"
   ]
  },
  {
   "cell_type": "markdown",
   "metadata": {},
   "source": [
    "Dari hasil diatas, dapat diamati bahwa model melakukan prediksi terhadap data yang baru dilihat berdasarkan pembelajaran sebelumnya. Berdasarkan kriteria dari fitur-fiturnya, dihasilkanlah kolom baru yang merupakan informasi cuaca hasil prediksi."
   ]
  }
 ],
 "metadata": {
  "kernelspec": {
   "display_name": "phase1",
   "language": "python",
   "name": "python3"
  },
  "language_info": {
   "codemirror_mode": {
    "name": "ipython",
    "version": 3
   },
   "file_extension": ".py",
   "mimetype": "text/x-python",
   "name": "python",
   "nbconvert_exporter": "python",
   "pygments_lexer": "ipython3",
   "version": "3.9.19"
  }
 },
 "nbformat": 4,
 "nbformat_minor": 2
}
